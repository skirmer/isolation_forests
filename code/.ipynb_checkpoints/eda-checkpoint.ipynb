{
 "cells": [
  {
   "cell_type": "markdown",
   "metadata": {},
   "source": [
    "# Isolation Forests Example\n",
    "\n",
    "Stephanie Kirmer\n",
    "ChiPy October 2020"
   ]
  },
  {
   "cell_type": "code",
   "execution_count": 1,
   "metadata": {},
   "outputs": [],
   "source": [
    "import numpy as np\n",
    "import rise\n",
    "import pandas as pd\n",
    "import logging as log\n",
    "import os\n",
    "import datetime\n",
    "import typing\n",
    "from typing import Callable, List\n",
    "import re\n",
    "from sklearn.ensemble import IsolationForest\n",
    "from sklearn.preprocessing import minmax_scale\n",
    "from sklearn.model_selection import train_test_split\n"
   ]
  },
  {
   "cell_type": "code",
   "execution_count": null,
   "metadata": {},
   "outputs": [],
   "source": [
    "from bokeh.plotting import figure, output_notebook, show\n",
    "from bokeh.models import ColorBar, ColumnDataSource\n",
    "from bokeh.palettes import Spectral6, brewer\n",
    "from bokeh.transform import linear_cmap, factor_cmap"
   ]
  },
  {
   "cell_type": "markdown",
   "metadata": {},
   "source": [
    "# Load data \n",
    "\n",
    "From Kaggle - songs on Spotify\n",
    "\n",
    "https://www.kaggle.com/yamaerenay/spotify-dataset-19212020-160k-tracks?select=data.csv"
   ]
  },
  {
   "cell_type": "code",
   "execution_count": null,
   "metadata": {},
   "outputs": [],
   "source": [
    "dataset = pd.read_csv(\"/Users/skirmer/projects/isolationforests/data/data.csv\")"
   ]
  },
  {
   "cell_type": "code",
   "execution_count": null,
   "metadata": {},
   "outputs": [],
   "source": [
    "dataset.head()"
   ]
  },
  {
   "cell_type": "markdown",
   "metadata": {},
   "source": [
    "# Feature Engineering"
   ]
  },
  {
   "cell_type": "code",
   "execution_count": null,
   "metadata": {},
   "outputs": [],
   "source": [
    "def make_ratios(df: pd.DataFrame, featurenames: List[List]):\n",
    "    ''' Accepts a list of lists (pairs of columns) to be ratioed. Returns the original dataframe with new columns representing ratios of features appended to end.'''\n",
    "\n",
    "    for i in featurenames:\n",
    "        df[f'ratio_{i[0]}_{i[1]}'] = df[i[0]]/df[i[1]]\n",
    "        log.info('Added new feature:' + f'ratio_{i[0]}_{i[1]}')\n",
    "    return(df)\n"
   ]
  },
  {
   "cell_type": "code",
   "execution_count": null,
   "metadata": {},
   "outputs": [],
   "source": [
    "dataset2 = make_ratios(dataset, featurenames = [['energy', 'acousticness'], ['loudness', 'acousticness'], ['loudness', 'tempo'], ['instrumentalness', 'speechiness']])"
   ]
  },
  {
   "cell_type": "code",
   "execution_count": null,
   "metadata": {},
   "outputs": [],
   "source": [
    "dataset2 = dataset2.replace([np.inf, -np.inf], 0)\n",
    "\n",
    "\n",
    "def scale_all_features(df: pd.DataFrame):\n",
    "    rdf = df.select_dtypes(include='number')\n",
    "    rdf2 = pd.DataFrame(minmax_scale(rdf))\n",
    "    rdf2.columns = [f'{x}_scaled' for x in rdf.columns]\n",
    "    rdf3 = pd.concat([df.reset_index(drop=True), rdf2], axis=1)\n",
    "    return(rdf3)"
   ]
  },
  {
   "cell_type": "code",
   "execution_count": null,
   "metadata": {},
   "outputs": [],
   "source": [
    "dataset2 = scale_all_features(dataset2)\n",
    "\n",
    "dataset2['year_bin'] = pd.cut(dataset2['year'],9)"
   ]
  },
  {
   "cell_type": "markdown",
   "metadata": {},
   "source": [
    "# Examine Data"
   ]
  },
  {
   "cell_type": "code",
   "execution_count": null,
   "metadata": {},
   "outputs": [],
   "source": [
    "dataset2[['energy', 'energy_scaled']].head()"
   ]
  },
  {
   "cell_type": "code",
   "execution_count": null,
   "metadata": {},
   "outputs": [],
   "source": [
    "#pd.crosstab(new_X_test['preds'], new_X_test['preds'], normalize='index')\n",
    "dataset2['year_bin'].value_counts(normalize=True) * 100\n"
   ]
  },
  {
   "cell_type": "code",
   "execution_count": null,
   "metadata": {},
   "outputs": [],
   "source": [
    "from plotnine import *\n",
    "from bokeh.plotting import output_file, show\n",
    "\n",
    "# Must downsample to get any reasonable rendering speed\n",
    "plotset = dataset2.sample(frac=0.25, replace=False, random_state=1)\n",
    "\n",
    "output_notebook() \n",
    "\n",
    "(\n",
    "    ggplot(plotset, aes(x='energy', color='year_bin', fill='year_bin'))\n",
    "    + theme_bw()\n",
    "    + geom_density(alpha=0.1)\n",
    "    +labs(title = \"Song Energy by Year, Density\")\n",
    ")\n"
   ]
  },
  {
   "cell_type": "code",
   "execution_count": null,
   "metadata": {},
   "outputs": [],
   "source": [
    "(\n",
    "    ggplot(plotset, aes(x='loudness', color='year_bin', fill='year_bin'))\n",
    "    + theme_bw()\n",
    "    + geom_density(alpha=0.1)\n",
    "    +labs(title = \"Song Loudness by Year, Density\")\n",
    ")"
   ]
  },
  {
   "cell_type": "markdown",
   "metadata": {},
   "source": [
    "# Choose Feature Set"
   ]
  },
  {
   "cell_type": "code",
   "execution_count": null,
   "metadata": {},
   "outputs": [],
   "source": [
    "features = ['acousticness', 'danceability', 'duration_ms', 'energy', 'explicit', 'instrumentalness', 'key', 'liveness', 'loudness', 'mode', 'popularity', 'speechiness', 'tempo', 'valence', 'year', 'ratio_energy_acousticness', 'ratio_loudness_acousticness', 'ratio_loudness_tempo', 'ratio_instrumentalness_speechiness']"
   ]
  },
  {
   "cell_type": "code",
   "execution_count": null,
   "metadata": {},
   "outputs": [],
   "source": [
    "features = ['acousticness_scaled', 'danceability_scaled', 'duration_ms_scaled', 'energy_scaled', 'explicit_scaled', 'instrumentalness_scaled', 'key_scaled', 'liveness_scaled', 'loudness_scaled', 'mode_scaled', 'popularity_scaled', 'speechiness_scaled', 'tempo_scaled', 'valence_scaled', 'ratio_energy_acousticness_scaled', 'ratio_loudness_acousticness_scaled', 'ratio_loudness_tempo_scaled', 'ratio_instrumentalness_speechiness_scaled']"
   ]
  },
  {
   "cell_type": "markdown",
   "metadata": {},
   "source": [
    "# Train Model"
   ]
  },
  {
   "cell_type": "code",
   "execution_count": null,
   "metadata": {},
   "outputs": [],
   "source": [
    "\n",
    "def fit_model(dataframe, feature_list):\n",
    "    ''' Accepts dataframe and list of features to be used in model training. Returns trained model object and dataset with NAs removed and anomalousness features appended. '''\n",
    "    rng = np.random.RandomState(42)\n",
    "    dataframe.dropna(inplace=True)\n",
    "    #dataframe.fillna(value=0, inplace=True)\n",
    "    X_train = dataframe[feature_list]\n",
    "    clf = IsolationForest(n_estimators=100, max_features=3,\n",
    "                          contamination=.03, random_state=rng)\n",
    "    clf.fit(X_train)\n",
    "    decfn = clf.decision_function(X_train)\n",
    "    scores = clf.score_samples(X_train)\n",
    "\n",
    "    y_pred_train = clf.predict(X_train)\n",
    "    dataframe['preds'] = y_pred_train\n",
    "    dataframe['preds'] = dataframe['preds'].replace({-1:\"Anomaly\", 1: \"Normal\"})\n",
    "    dataframe['decision_fn'] = decfn\n",
    "    dataframe['scores'] = scores\n",
    "    return(clf, dataframe)\n",
    "\n",
    "\n",
    "def predict_on_new(newdata, feature_list, modelobj):\n",
    "    ''' Accepts dataframe, trained model object, and list of features required by model. Returns dataset with NAs removed and anomalousness features appended. '''\n",
    "    newdata.dropna(inplace=True)\n",
    "    #newdata.fillna(value=0, inplace=True)\n",
    "    dataframe = newdata[feature_list]\n",
    "\n",
    "    decfn = modelobj.decision_function(dataframe)\n",
    "    scores = modelobj.score_samples(dataframe)\n",
    "\n",
    "    y_pred_train = modelobj.predict(dataframe)\n",
    "    newdata['preds'] = y_pred_train\n",
    "    newdata['preds'] = newdata['preds'].replace({-1:\"Anomaly\", 1: \"Normal\"})\n",
    "    newdata['decision_fn'] = decfn\n",
    "    newdata['scores'] = scores\n",
    "    \n",
    "    return(newdata)"
   ]
  },
  {
   "cell_type": "code",
   "execution_count": null,
   "metadata": {},
   "outputs": [],
   "source": [
    "\n",
    "X_train, X_test = train_test_split(dataset2, test_size=0.3)\n"
   ]
  },
  {
   "cell_type": "code",
   "execution_count": null,
   "metadata": {},
   "outputs": [],
   "source": [
    "\n",
    "modobj, new_X_train = fit_model(X_train, features)\n"
   ]
  },
  {
   "cell_type": "markdown",
   "metadata": {},
   "source": [
    "# Predict on Test Holdout"
   ]
  },
  {
   "cell_type": "code",
   "execution_count": null,
   "metadata": {},
   "outputs": [],
   "source": [
    "new_X_test = predict_on_new(newdata=X_test, feature_list=features, modelobj=modobj)"
   ]
  },
  {
   "cell_type": "code",
   "execution_count": null,
   "metadata": {},
   "outputs": [],
   "source": [
    "new_X_test.head()"
   ]
  },
  {
   "cell_type": "markdown",
   "metadata": {},
   "source": [
    "# Analyze Predictions"
   ]
  },
  {
   "cell_type": "code",
   "execution_count": null,
   "metadata": {},
   "outputs": [],
   "source": [
    "#pd.crosstab(new_X_test['preds'], new_X_test['preds'], normalize='index')\n",
    "new_X_test['preds'].value_counts(normalize=True) * 100"
   ]
  },
  {
   "cell_type": "code",
   "execution_count": null,
   "metadata": {},
   "outputs": [],
   "source": [
    "\n",
    "new_X_train['preds'].value_counts(normalize=True) * 100"
   ]
  },
  {
   "cell_type": "code",
   "execution_count": null,
   "metadata": {
    "tags": []
   },
   "outputs": [],
   "source": [
    "output_notebook() \n",
    "# create a new plot with a title and axis labels\n",
    "p = figure(title=\"Training Sample Score\", y_axis_label='Anomalousness Score', x_axis_label='Tempo, bpm', width=700, height = 300)\n",
    "\n",
    "source = ColumnDataSource(data=dict(x=new_X_train['tempo'], \n",
    "                                y=new_X_train['scores'], \n",
    "                                ur = new_X_train['preds'],\n",
    "                                legend_group= new_X_train['preds']))\n",
    "\n",
    "colors = factor_cmap('ur', palette=Spectral6, factors=new_X_train.preds.unique()) \n",
    "\n",
    "p.circle(color=colors, legend_group = 'legend_group', source=source, fill_alpha=.5, line_alpha = .5)\n",
    "\n",
    "# show the results\n",
    "show(p)"
   ]
  },
  {
   "cell_type": "code",
   "execution_count": null,
   "metadata": {},
   "outputs": [],
   "source": [
    "output_notebook() \n",
    "# create a new plot with a title and axis labels\n",
    "p = figure(title=\"Test Sample Score\", y_axis_label='Anomalousness Score', x_axis_label='Tempo, bpm', width=700, height = 300)\n",
    "\n",
    "source = ColumnDataSource(data=dict(x=new_X_test['tempo'], \n",
    "                                y=new_X_test['scores'], \n",
    "                                ur = new_X_test['preds'],\n",
    "                                legend_group= new_X_test['preds']))\n",
    "\n",
    "colors = factor_cmap('ur', palette=Spectral6, factors=new_X_test.preds.unique()) \n",
    "\n",
    "p.circle(color=colors, legend_group = 'legend_group', source=source)\n",
    "\n",
    "# show the results\n",
    "show(p)"
   ]
  },
  {
   "cell_type": "markdown",
   "metadata": {},
   "source": [
    "# Anomalous Songs!"
   ]
  },
  {
   "cell_type": "code",
   "execution_count": null,
   "metadata": {},
   "outputs": [],
   "source": [
    "anoms = new_X_test[new_X_test['preds'] == 'Anomaly']"
   ]
  },
  {
   "cell_type": "code",
   "execution_count": null,
   "metadata": {},
   "outputs": [],
   "source": [
    "anoms.artists.unique()[0:20]"
   ]
  },
  {
   "cell_type": "code",
   "execution_count": null,
   "metadata": {},
   "outputs": [],
   "source": [
    "anoms['year'].value_counts(normalize=True) * 100\n"
   ]
  },
  {
   "cell_type": "code",
   "execution_count": null,
   "metadata": {},
   "outputs": [],
   "source": [
    "anoms['year'].describe()"
   ]
  },
  {
   "cell_type": "code",
   "execution_count": null,
   "metadata": {},
   "outputs": [],
   "source": []
  },
  {
   "cell_type": "code",
   "execution_count": null,
   "metadata": {},
   "outputs": [],
   "source": [
    "anoms['year_bin'].head()"
   ]
  },
  {
   "cell_type": "code",
   "execution_count": null,
   "metadata": {},
   "outputs": [],
   "source": [
    "pd.crosstab(new_X_test['preds'], new_X_test['year_bin'], normalize='index')\n"
   ]
  }
 ],
 "metadata": {
  "kernelspec": {
   "display_name": "Python 3.7.7 64-bit",
   "language": "python",
   "name": "python37764bitb280845833f64f5389e22aa42ed89418"
  },
  "language_info": {
   "codemirror_mode": {
    "name": "ipython",
    "version": 3
   },
   "file_extension": ".py",
   "mimetype": "text/x-python",
   "name": "python",
   "nbconvert_exporter": "python",
   "pygments_lexer": "ipython3",
   "version": "3.7.7"
  }
 },
 "nbformat": 4,
 "nbformat_minor": 2
}
